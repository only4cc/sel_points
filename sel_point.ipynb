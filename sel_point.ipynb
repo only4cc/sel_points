{
 "cells": [
  {
   "cell_type": "markdown",
   "metadata": {},
   "source": [
    "# Determinacion de puntos para toma de muestras"
   ]
  },
  {
   "cell_type": "code",
   "execution_count": 44,
   "metadata": {},
   "outputs": [],
   "source": [
    "# python 3.7\n",
    "#\n",
    "# Parametros de entrada:\n",
    "#    nombre del archivo formato csv\n",
    "#    numero minimo de puntos a seleccionar o ... porcentaje minimo de puntos a seleccionar\n",
    "#    distancia minima entre puntos <--- en mts\n",
    "#"
   ]
  },
  {
   "cell_type": "code",
   "execution_count": 45,
   "metadata": {},
   "outputs": [],
   "source": [
    "import random\n",
    "import math"
   ]
  },
  {
   "cell_type": "code",
   "execution_count": 55,
   "metadata": {},
   "outputs": [],
   "source": [
    "import sys, getopt"
   ]
  },
  {
   "cell_type": "code",
   "execution_count": 46,
   "metadata": {},
   "outputs": [],
   "source": [
    "import matplotlib.pyplot as plt\n",
    "import seaborn as sns\n",
    "sns.set()"
   ]
  },
  {
   "cell_type": "code",
   "execution_count": 47,
   "metadata": {},
   "outputs": [],
   "source": [
    "import pandas as pd"
   ]
  },
  {
   "cell_type": "code",
   "execution_count": 48,
   "metadata": {},
   "outputs": [],
   "source": [
    "# Print helpful messages\n",
    "# set to False in Production\n",
    "debug = False\n",
    "plot  = True"
   ]
  },
  {
   "cell_type": "code",
   "execution_count": 49,
   "metadata": {},
   "outputs": [],
   "source": [
    "# Lee el csv\n",
    "filename = '../data/Puntos_Point.csv'\n",
    "\n",
    "name = 'A3-c'\n",
    "#name = 'A4-b'\n",
    "\n",
    "# Filtra solo las filas con Name = ...\n",
    "df = pd.read_csv(filename)"
   ]
  },
  {
   "cell_type": "code",
   "execution_count": 50,
   "metadata": {},
   "outputs": [
    {
     "name": "stdout",
     "output_type": "stream",
     "text": [
      "Total Points in csv: 179\n",
      "% of Points to use: 40.0 | Number of points to use: 71\n",
      "Min. distance allowed: 141\n"
     ]
    }
   ],
   "source": [
    "df = df[(df['Name'] == name )]\n",
    "\n",
    "total_points =  len(df)\n",
    "\n",
    "# Prop. of total point number\n",
    "prop = 0.40\n",
    "# Minimal Distance Allowed\n",
    "min_distance_allowed = 141\n",
    "\n",
    "print('Total Points in csv:',total_points)\n",
    "print('% of Points to use:',prop*100, '| Number of points to use:',int(prop*len(df)) )\n",
    "print('Min. distance allowed:',min_distance_allowed)"
   ]
  },
  {
   "cell_type": "code",
   "execution_count": 51,
   "metadata": {},
   "outputs": [],
   "source": [
    "if debug: df.head(3)"
   ]
  },
  {
   "cell_type": "code",
   "execution_count": 52,
   "metadata": {},
   "outputs": [],
   "source": [
    "# Transform wkt_geom to X, Y coord.\n",
    "def regulariza(t):\n",
    "    nc  = t.replace('(','')\n",
    "    nc2 = nc.replace(')','')\n",
    "    return nc2 \n",
    "\n",
    "df[['sinuso','X','Y']] = df['wkt_geom'].str.split(\" \",expand=True, )\n",
    "df.drop(columns=['sinuso'],inplace=True)\n",
    "df['X']=df['X'].apply(regulariza)\n",
    "df['Y']=df['Y'].apply(regulariza)\n",
    "if debug: df.head(3)"
   ]
  },
  {
   "cell_type": "code",
   "execution_count": 10,
   "metadata": {},
   "outputs": [],
   "source": [
    "# To numeric\n",
    "df['X'] = pd.to_numeric(df['X'], errors='raise', downcast='float')\n",
    "df['Y'] = pd.to_numeric(df['Y'], errors='raise', downcast='float')"
   ]
  },
  {
   "cell_type": "code",
   "execution_count": 11,
   "metadata": {},
   "outputs": [
    {
     "name": "stdout",
     "output_type": "stream",
     "text": [
      "Min. coord.: 11699435.0 1483940.4  | Integer: 11699435 1483940\n",
      "Max. coord.: 11700935.0 1485740.4  | Integer: 11700935 1485740\n"
     ]
    }
   ],
   "source": [
    "X = df['X'].values\n",
    "Y = df['Y'].values\n",
    "#df.info()\n",
    "\n",
    "# Minimos\n",
    "xmin = int(df['X'].min())\n",
    "ymin = int(df['Y'].min())\n",
    "\n",
    "# Maximos\n",
    "xmax = int(df['X'].max())\n",
    "ymax = int(df['Y'].max())\n",
    "\n",
    "print('Min. coord.:',df['X'].min(), df['Y'].min(),' | Integer:',xmin,ymin)\n",
    "print('Max. coord.:',df['X'].max(), df['Y'].max(),' | Integer:',xmax,ymax)"
   ]
  },
  {
   "cell_type": "markdown",
   "metadata": {},
   "source": [
    "### Puntos recibidos"
   ]
  },
  {
   "cell_type": "code",
   "execution_count": 53,
   "metadata": {},
   "outputs": [
    {
     "data": {
      "image/png": "[encoded data removed]",
      "text/plain": [
       "<Figure size 432x288 with 1 Axes>"
      ]
     },
     "metadata": {},
     "output_type": "display_data"
    }
   ],
   "source": [
    "if plot:\n",
    "    plt.title('Grid Points (loaded)')\n",
    "    plt.scatter(X,Y, marker='.', s = 5);"
   ]
  },
  {
   "cell_type": "code",
   "execution_count": 13,
   "metadata": {},
   "outputs": [],
   "source": [
    "# universe_points se obtiene del archivo csv\n",
    "universe_points = []\n",
    "for i in range(0,len(X)):\n",
    "    x = X[i] #- xmin\n",
    "    y = Y[i] #- ymin\n",
    "    universe_points.append([x,y])"
   ]
  },
  {
   "cell_type": "code",
   "execution_count": 54,
   "metadata": {},
   "outputs": [],
   "source": [
    "if debug: universe_points[0:5]"
   ]
  },
  {
   "cell_type": "code",
   "execution_count": 15,
   "metadata": {},
   "outputs": [
    {
     "name": "stdout",
     "output_type": "stream",
     "text": [
      "Min. number of Points needed: 72\n"
     ]
    }
   ],
   "source": [
    "min_necesary_points = int(prop*len(universe_points))+1\n",
    "print('Min. number of Points needed:',min_necesary_points)"
   ]
  },
  {
   "cell_type": "code",
   "execution_count": 16,
   "metadata": {},
   "outputs": [],
   "source": [
    "#universe_points\n",
    "# Crea un arreglo de points_number puntos  \n",
    "# Esto debe ser obtenido desde el archivo csv\n",
    "#total_points_number = 100\n",
    "#for x in range(total_points_number):\n",
    "#  universe_points.append( [random.randint(1,100),random.randint(1,100)] ) "
   ]
  },
  {
   "cell_type": "code",
   "execution_count": 17,
   "metadata": {},
   "outputs": [],
   "source": [
    "def distance(p,q):\n",
    "    '''\n",
    "    Euclidian distance\n",
    "    '''\n",
    "    return math.sqrt( (p[0]-q[0])*(p[0]-q[0]) + (p[1]-q[1])*(p[1]-q[1]) )  "
   ]
  },
  {
   "cell_type": "code",
   "execution_count": 18,
   "metadata": {},
   "outputs": [],
   "source": [
    "def get_point():\n",
    "    '''\n",
    "    Get a new point from the points array\n",
    "    '''\n",
    "    i = random.randint(0, total_points-1)\n",
    "    return universe_points[i]"
   ]
  },
  {
   "cell_type": "code",
   "execution_count": 19,
   "metadata": {},
   "outputs": [],
   "source": [
    "def get_first_point():\n",
    "    '''\n",
    "    Get the first point from the points array\n",
    "    The nearest point to the centroid of all points\n",
    "    '''\n",
    "    totx = 0\n",
    "    toty = 0\n",
    "    #xmin = 9999999999999999\n",
    "    #xmax = -999999999999999\n",
    "    #ymin = 9999999999999999\n",
    "    #ymax = -999999999999999\n",
    "    first_point = []\n",
    "    n = len(universe_points)\n",
    "    for i in range(0,n):\n",
    "        x = universe_points[i][0]\n",
    "        y = universe_points[i][1]\n",
    "        #if x < xmin: xmin = x\n",
    "        #if x > xmax: xmax = x\n",
    "        #if y < ymin: ymin = y\n",
    "        #if y > ymax: ymax = y\n",
    "        totx = totx + x\n",
    "        toty = toty + y\n",
    "                \n",
    "    #centroid = [ xmin + (xmax-xmin)/2 ,ymin + (ymax-ymin)/2 ]\n",
    "    centroid = [ totx/n, toty/n ]\n",
    "\n",
    "    if debug: print('*** Centroid:',centroid)\n",
    "    \n",
    "    d = 9999999999999999\n",
    "    for i in range(0,len(universe_points)):\n",
    "        if distance(universe_points[i], centroid) < d:\n",
    "            d = distance(universe_points[i], centroid)\n",
    "            first_point = universe_points[i]\n",
    "    \n",
    "    return first_point"
   ]
  },
  {
   "cell_type": "code",
   "execution_count": 20,
   "metadata": {},
   "outputs": [],
   "source": [
    "def verify(point, selected_points):\n",
    "    '''\n",
    "    Verify that the new point is useful (based on a minimall distance)\n",
    "    '''\n",
    "    useful = False\n",
    "    '''\n",
    "    Compare the point with the rest of points selected\n",
    "    '''\n",
    "    i = 0\n",
    "    while i < len(selected_points) :\n",
    "        if debug: print('comparing ',point, selected_points[i], sep='')\n",
    "        dist =  distance(point, selected_points[i])\n",
    "        if  dist <= min_distance_allowed:\n",
    "            if debug: print('not ok',int(dist), ' < ',  min_distance_allowed)\n",
    "            useful = False\n",
    "            return useful\n",
    "        else:\n",
    "            if debug: print('ok',int(dist), ' > ',  min_distance_allowed)\n",
    "            useful = True\n",
    "        i += 1\n",
    "    return useful"
   ]
  },
  {
   "cell_type": "markdown",
   "metadata": {},
   "source": [
    "# Ejecucion de la seleccion de puntos"
   ]
  },
  {
   "cell_type": "code",
   "execution_count": 21,
   "metadata": {},
   "outputs": [],
   "source": [
    "selected_points=[]\n",
    "'''\n",
    "First point added to selected_points\n",
    "'''\n",
    "p = get_first_point()\n",
    "selected_points.append( p )\n",
    "if debug: print('first point',selected_points)"
   ]
  },
  {
   "cell_type": "code",
   "execution_count": 22,
   "metadata": {},
   "outputs": [
    {
     "data": {
      "image/png": "[encoded data removed]",
      "text/plain": [
       "<Figure size 432x288 with 1 Axes>"
      ]
     },
     "metadata": {
      "needs_background": "light"
     },
     "output_type": "display_data"
    }
   ],
   "source": [
    "if plot:\n",
    "    plt.title('Centroid')\n",
    "    plt.scatter(X,Y, c='b', marker='.', label='grid', s=10)\n",
    "    plt.scatter(selected_points[0][0], selected_points[0][1], c='r', marker='X', label='centroid', s=40)\n",
    "    plt.legend(loc='lower center')\n",
    "    plt.show()"
   ]
  },
  {
   "cell_type": "code",
   "execution_count": 23,
   "metadata": {},
   "outputs": [
    {
     "name": "stdout",
     "output_type": "stream",
     "text": [
      "\n",
      "*** end of selection.\t 1000 iterations\n",
      "*** number of selected points: 68\n"
     ]
    }
   ],
   "source": [
    "k = 0\n",
    "max_iter = 1000\n",
    "while ( len(selected_points) < min_necesary_points and k < max_iter ):\n",
    "    p = get_point()\n",
    "    if debug: print('checking if new point:',p, 'is useful ...')\n",
    "    res = False\n",
    "    res = verify(p, selected_points)\n",
    "    if res:\n",
    "        if debug: print('yes, is useful')\n",
    "        selected_points.append( p )\n",
    "    else:\n",
    "        if debug: print('no, not useful')\n",
    "    k += 1\n",
    "    if debug: print('number of selected points',len(selected_points))\n",
    "    #print('points selected', selected_points)\n",
    "    \n",
    "\n",
    "print('\\n*** end of selection.\\t',k, 'iterations')\n",
    "print('*** number of selected points:',len(selected_points))"
   ]
  },
  {
   "cell_type": "code",
   "execution_count": 24,
   "metadata": {},
   "outputs": [],
   "source": [
    "display = False\n",
    "if display:\n",
    "    print('selected points:')\n",
    "    selected_points"
   ]
  },
  {
   "cell_type": "code",
   "execution_count": 25,
   "metadata": {},
   "outputs": [],
   "source": [
    "XX=[]\n",
    "YY=[]\n",
    "for p in selected_points:\n",
    "    XX.append(p[0]) \n",
    "    YY.append(p[1]) "
   ]
  },
  {
   "cell_type": "markdown",
   "metadata": {},
   "source": [
    "### Grafico con puntos seleccionados"
   ]
  },
  {
   "cell_type": "code",
   "execution_count": 26,
   "metadata": {},
   "outputs": [
    {
     "data": {
      "image/png": "[encoded data removed]",
      "text/plain": [
       "<Figure size 432x288 with 1 Axes>"
      ]
     },
     "metadata": {
      "needs_background": "light"
     },
     "output_type": "display_data"
    }
   ],
   "source": [
    "if plot:\n",
    "    plt.title('Selected Points')\n",
    "    plt.scatter(XX,YY, c='r', marker='+' );"
   ]
  },
  {
   "cell_type": "code",
   "execution_count": 27,
   "metadata": {},
   "outputs": [
    {
     "data": {
      "image/png": "[encoded data removed]",
      "text/plain": [
       "<Figure size 432x288 with 1 Axes>"
      ]
     },
     "metadata": {
      "needs_background": "light"
     },
     "output_type": "display_data"
    }
   ],
   "source": [
    "if plot:\n",
    "    plt.title('Selected Points in Grid')\n",
    "    plt.scatter(X,Y, c='b', marker='.', label='grid', s=10)\n",
    "    plt.scatter(XX, YY, c='r', marker='s', label='selected', s=10)\n",
    "    plt.legend(loc='lower left')\n",
    "    plt.show()"
   ]
  },
  {
   "cell_type": "markdown",
   "metadata": {},
   "source": [
    "### Graba el csv con los puntos generados"
   ]
  },
  {
   "cell_type": "code",
   "execution_count": 28,
   "metadata": {},
   "outputs": [],
   "source": [
    "index = []\n",
    "for i in range(0,len(XX)):\n",
    "    index.append(i)\n",
    "\n",
    "data = {\n",
    "    'x': XX,\n",
    "    'y': YY\n",
    "}\n",
    "dfsel = pd.DataFrame(data=data, columns=['x','y'], index=index)"
   ]
  },
  {
   "cell_type": "code",
   "execution_count": 29,
   "metadata": {},
   "outputs": [],
   "source": [
    "filename_selected = '../data/sel_'+name+'.csv'\n",
    "dfsel.to_csv(filename_selected)"
   ]
  },
  {
   "cell_type": "markdown",
   "metadata": {},
   "source": [
    "---"
   ]
  },
  {
   "cell_type": "raw",
   "metadata": {},
   "source": [
    "def main(argv):\n",
    "    filename = ''\n",
    "    min_distance_allowed = 0\n",
    "    percent = 0\n",
    "\n",
    "    try:\n",
    "        opts, args = getopt.getopt(argv,\"hi:p:d\",[\"filename=\",\"percent=\"])\n",
    "    except getopt.GetoptError:\n",
    "        print ('sel_point.py -d <min_distance> -i <filename> -n <percent>')\n",
    "        sys.exit(2)\n",
    "    for opt, arg in opts:\n",
    "        if opt == '-h':\n",
    "            print ('sel_point.py -m <min_distance> -i <filename> -p <percent>')\n",
    "            sys.exit()\n",
    "        elif opt in (\"-i\", \"--ifile\"):\n",
    "            filename = arg\n",
    "        elif opt in (\"-p\", \"--percent\"):\n",
    "            prop = arg\n",
    "        elif opt in (\"-m\", \"--min_distance\"):\n",
    "            min_distance_allowed = arg\n",
    "\n",
    "    print ('CSV Filename :', filename )\n",
    "    print ('Percent of. points :', prop )\n",
    "    print ('Min. Distance :', min_distance_allowed )\n",
    "\n",
    "\n",
    "if __name__ == \"__main__\":\n",
    "   main(sys.argv[1:])"
   ]
  },
  {
   "cell_type": "markdown",
   "metadata": {},
   "source": [
    "---"
   ]
  },
  {
   "cell_type": "markdown",
   "metadata": {},
   "source": [
    "# Georeferenciado"
   ]
  },
  {
   "cell_type": "code",
   "execution_count": 30,
   "metadata": {},
   "outputs": [
    {
     "name": "stdout",
     "output_type": "stream",
     "text": [
      "Centroid: [11700035.0, 1484940.4]\n"
     ]
    }
   ],
   "source": [
    "print('Centroid:',[selected_points[0][0], selected_points[0][1]] )"
   ]
  },
  {
   "cell_type": "code",
   "execution_count": 43,
   "metadata": {},
   "outputs": [
    {
     "data": {
      "text/html": [
       "<div style=\"width:100%;\"><div style=\"position:relative;width:100%;height:0;padding-bottom:60%;\"><iframe src=\"data:text/html;charset=utf-8;base64,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\" style=\"position:absolute;width:100%;height:100%;left:0;top:0;border:none !important;\" allowfullscreen webkitallowfullscreen mozallowfullscreen></iframe></div></div>"
      ],
      "text/plain": [
       "<folium.folium.Map at 0x8ab526a20>"
      ]
     },
     "execution_count": 43,
     "metadata": {},
     "output_type": "execute_result"
    }
   ],
   "source": [
    "\n",
    "#p = [selected_points[0][0], selected_points[0][1]]\n",
    "p = [-33.4726900, -70.6472400]\n",
    "\n",
    "import folium\n",
    "m = folium.Map(\n",
    "    location= p,\n",
    "    zoom_start=10,\n",
    "    crs='EPSG3857',\n",
    "#    tiles='Stamen',\n",
    "    tiles='Stamen Terrain'\n",
    ")\n",
    "\n",
    "tooltip = 'Click'\n",
    "folium.Marker(p, popup='<i>'+'punto_seleccionado'+'</i>', tooltip=tooltip).add_to(m)\n",
    "\n",
    "    \n",
    "#for i in range(0,3): #len(selected_points)):\n",
    "#    folium.Marker([selected_points[i][0], selected_points[i][1]], popup='<i>'+'punto_seleccionado'+'</i>', tooltip=tooltip).add_to(m)\n",
    "\n",
    "m"
   ]
  },
  {
   "cell_type": "code",
   "execution_count": 32,
   "metadata": {},
   "outputs": [],
   "source": [
    "html_page = '../data/sel_'+name+'.html'\n",
    "m.save(html_page)"
   ]
  },
  {
   "cell_type": "code",
   "execution_count": null,
   "metadata": {},
   "outputs": [],
   "source": []
  }
 ],
 "metadata": {
  "kernelspec": {
   "display_name": "Python 3",
   "language": "python",
   "name": "python3"
  },
  "language_info": {
   "codemirror_mode": {
    "name": "ipython",
    "version": 3
   },
   "file_extension": ".py",
   "mimetype": "text/x-python",
   "name": "python",
   "nbconvert_exporter": "python",
   "pygments_lexer": "ipython3",
   "version": "3.7.3"
  }
 },
 "nbformat": 4,
 "nbformat_minor": 2
}
