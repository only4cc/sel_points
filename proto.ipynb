{
 "cells": [
  {
   "cell_type": "markdown",
   "metadata": {},
   "source": [
    "# Determinacion de puntos para toma de muestras"
   ]
  },
  {
   "cell_type": "code",
   "execution_count": 2,
   "metadata": {},
   "outputs": [],
   "source": [
    "# python 3.7\n",
    "#\n",
    "# Parametros de entrada:\n",
    "#    nombre del archivo formato csv\n",
    "#    numero minimo de puntos a seleccionar o ... porcentaje minimo de puntos a seleccionar\n",
    "#    distancia minima entre puntos\n",
    "#"
   ]
  },
  {
   "cell_type": "code",
   "execution_count": 25,
   "metadata": {},
   "outputs": [],
   "source": [
    "import random\n",
    "import math"
   ]
  },
  {
   "cell_type": "code",
   "execution_count": 26,
   "metadata": {},
   "outputs": [],
   "source": [
    "import matplotlib.pyplot as plt"
   ]
  },
  {
   "cell_type": "code",
   "execution_count": 39,
   "metadata": {},
   "outputs": [],
   "source": [
    "import pandas as pd"
   ]
  },
  {
   "cell_type": "code",
   "execution_count": 27,
   "metadata": {},
   "outputs": [],
   "source": [
    "# Print helpful messages\n",
    "# set to False in Production\n",
    "debug = False"
   ]
  },
  {
   "cell_type": "code",
   "execution_count": 73,
   "metadata": {},
   "outputs": [],
   "source": [
    "# Lee el csv\n",
    "filename = '/Users/Julio/Dropbox7current/ATY/data/Puntos_Point.csv'\n",
    "filename = 'data/Puntos_Point.csv'\n",
    "df = pd.read_csv(filename)"
   ]
  },
  {
   "cell_type": "code",
   "execution_count": 74,
   "metadata": {},
   "outputs": [
    {
     "data": {
      "text/html": [
       "<div>\n",
       "<style scoped>\n",
       "    .dataframe tbody tr th:only-of-type {\n",
       "        vertical-align: middle;\n",
       "    }\n",
       "\n",
       "    .dataframe tbody tr th {\n",
       "        vertical-align: top;\n",
       "    }\n",
       "\n",
       "    .dataframe thead th {\n",
       "        text-align: right;\n",
       "    }\n",
       "</style>\n",
       "<table border=\"1\" class=\"dataframe\">\n",
       "  <thead>\n",
       "    <tr style=\"text-align: right;\">\n",
       "      <th></th>\n",
       "      <th>wkt_geom</th>\n",
       "      <th>left</th>\n",
       "      <th>top</th>\n",
       "      <th>right</th>\n",
       "      <th>bottom</th>\n",
       "      <th>id</th>\n",
       "      <th>Area</th>\n",
       "      <th>Region</th>\n",
       "      <th>Region_Let</th>\n",
       "      <th>Number</th>\n",
       "      <th>Client_Nam</th>\n",
       "      <th>Columna1</th>\n",
       "      <th>Name</th>\n",
       "      <th>Crop</th>\n",
       "      <th>AUTO</th>\n",
       "    </tr>\n",
       "  </thead>\n",
       "  <tbody>\n",
       "    <tr>\n",
       "      <th>0</th>\n",
       "      <td>Point (11700934.77801547385752201 1484840.3588...</td>\n",
       "      <td>11700884.78</td>\n",
       "      <td>1484890.359</td>\n",
       "      <td>11700984.78</td>\n",
       "      <td>1484790.359</td>\n",
       "      <td>530</td>\n",
       "      <td>171.391814</td>\n",
       "      <td>Avocado</td>\n",
       "      <td>A</td>\n",
       "      <td>3</td>\n",
       "      <td>NaN</td>\n",
       "      <td>c</td>\n",
       "      <td>A3-c</td>\n",
       "      <td>NaN</td>\n",
       "      <td>0</td>\n",
       "    </tr>\n",
       "    <tr>\n",
       "      <th>1</th>\n",
       "      <td>Point (11700934.77801547385752201 1484740.3588...</td>\n",
       "      <td>11700884.78</td>\n",
       "      <td>1484790.359</td>\n",
       "      <td>11700984.78</td>\n",
       "      <td>1484690.359</td>\n",
       "      <td>531</td>\n",
       "      <td>171.391814</td>\n",
       "      <td>Avocado</td>\n",
       "      <td>A</td>\n",
       "      <td>3</td>\n",
       "      <td>NaN</td>\n",
       "      <td>c</td>\n",
       "      <td>A3-c</td>\n",
       "      <td>NaN</td>\n",
       "      <td>0</td>\n",
       "    </tr>\n",
       "  </tbody>\n",
       "</table>\n",
       "</div>"
      ],
      "text/plain": [
       "                                            wkt_geom         left  \\\n",
       "0  Point (11700934.77801547385752201 1484840.3588...  11700884.78   \n",
       "1  Point (11700934.77801547385752201 1484740.3588...  11700884.78   \n",
       "\n",
       "           top        right       bottom   id        Area   Region Region_Let  \\\n",
       "0  1484890.359  11700984.78  1484790.359  530  171.391814  Avocado          A   \n",
       "1  1484790.359  11700984.78  1484690.359  531  171.391814  Avocado          A   \n",
       "\n",
       "   Number  Client_Nam Columna1  Name  Crop  AUTO  \n",
       "0       3         NaN        c  A3-c   NaN     0  \n",
       "1       3         NaN        c  A3-c   NaN     0  "
      ]
     },
     "execution_count": 74,
     "metadata": {},
     "output_type": "execute_result"
    }
   ],
   "source": [
    "df.head(2)"
   ]
  },
  {
   "cell_type": "code",
   "execution_count": 117,
   "metadata": {},
   "outputs": [
    {
     "data": {
      "text/html": [
       "<div>\n",
       "<style scoped>\n",
       "    .dataframe tbody tr th:only-of-type {\n",
       "        vertical-align: middle;\n",
       "    }\n",
       "\n",
       "    .dataframe tbody tr th {\n",
       "        vertical-align: top;\n",
       "    }\n",
       "\n",
       "    .dataframe thead th {\n",
       "        text-align: right;\n",
       "    }\n",
       "</style>\n",
       "<table border=\"1\" class=\"dataframe\">\n",
       "  <thead>\n",
       "    <tr style=\"text-align: right;\">\n",
       "      <th></th>\n",
       "      <th>wkt_geom</th>\n",
       "      <th>left</th>\n",
       "      <th>top</th>\n",
       "      <th>right</th>\n",
       "      <th>bottom</th>\n",
       "      <th>id</th>\n",
       "      <th>Area</th>\n",
       "      <th>Region</th>\n",
       "      <th>Region_Let</th>\n",
       "      <th>Number</th>\n",
       "      <th>Client_Nam</th>\n",
       "      <th>Columna1</th>\n",
       "      <th>Name</th>\n",
       "      <th>Crop</th>\n",
       "      <th>AUTO</th>\n",
       "      <th>kk</th>\n",
       "      <th>First</th>\n",
       "      <th>Last</th>\n",
       "      <th>X</th>\n",
       "      <th>Y</th>\n",
       "    </tr>\n",
       "  </thead>\n",
       "  <tbody>\n",
       "    <tr>\n",
       "      <th>0</th>\n",
       "      <td>(11700934.77801547385752201 1484840.358805338...</td>\n",
       "      <td>11700884.78</td>\n",
       "      <td>1484890.359</td>\n",
       "      <td>11700984.78</td>\n",
       "      <td>1484790.359</td>\n",
       "      <td>530</td>\n",
       "      <td>171.391814</td>\n",
       "      <td>Avocado</td>\n",
       "      <td>A</td>\n",
       "      <td>3</td>\n",
       "      <td>NaN</td>\n",
       "      <td>c</td>\n",
       "      <td>A3-c</td>\n",
       "      <td>NaN</td>\n",
       "      <td>0</td>\n",
       "      <td></td>\n",
       "      <td>(11700934.77801547385752201</td>\n",
       "      <td>1484840.35880533838644624)</td>\n",
       "      <td>1.170093e+07</td>\n",
       "      <td>1.170093e+07</td>\n",
       "    </tr>\n",
       "    <tr>\n",
       "      <th>1</th>\n",
       "      <td>(11700934.77801547385752201 1484740.358805338...</td>\n",
       "      <td>11700884.78</td>\n",
       "      <td>1484790.359</td>\n",
       "      <td>11700984.78</td>\n",
       "      <td>1484690.359</td>\n",
       "      <td>531</td>\n",
       "      <td>171.391814</td>\n",
       "      <td>Avocado</td>\n",
       "      <td>A</td>\n",
       "      <td>3</td>\n",
       "      <td>NaN</td>\n",
       "      <td>c</td>\n",
       "      <td>A3-c</td>\n",
       "      <td>NaN</td>\n",
       "      <td>0</td>\n",
       "      <td></td>\n",
       "      <td>(11700934.77801547385752201</td>\n",
       "      <td>1484740.35880533838644624)</td>\n",
       "      <td>1.170093e+07</td>\n",
       "      <td>1.170093e+07</td>\n",
       "    </tr>\n",
       "  </tbody>\n",
       "</table>\n",
       "</div>"
      ],
      "text/plain": [
       "                                            wkt_geom         left  \\\n",
       "0   (11700934.77801547385752201 1484840.358805338...  11700884.78   \n",
       "1   (11700934.77801547385752201 1484740.358805338...  11700884.78   \n",
       "\n",
       "           top        right       bottom   id        Area   Region Region_Let  \\\n",
       "0  1484890.359  11700984.78  1484790.359  530  171.391814  Avocado          A   \n",
       "1  1484790.359  11700984.78  1484690.359  531  171.391814  Avocado          A   \n",
       "\n",
       "   Number  Client_Nam Columna1  Name  Crop  AUTO kk  \\\n",
       "0       3         NaN        c  A3-c   NaN     0      \n",
       "1       3         NaN        c  A3-c   NaN     0      \n",
       "\n",
       "                         First                        Last             X  \\\n",
       "0  (11700934.77801547385752201  1484840.35880533838644624)  1.170093e+07   \n",
       "1  (11700934.77801547385752201  1484740.35880533838644624)  1.170093e+07   \n",
       "\n",
       "              Y  \n",
       "0  1.170093e+07  \n",
       "1  1.170093e+07  "
      ]
     },
     "execution_count": 117,
     "metadata": {},
     "output_type": "execute_result"
    }
   ],
   "source": [
    "def regulariza(t):\n",
    "    nc = t.replace('(','')\n",
    "    nc2 = nc.replace(')','')\n",
    "    return nc2 \n",
    "\n",
    "df[['sinuso','X','Y']] = df['wkt_geom'].str.split(\" \",expand=True, )\n",
    "df.drop(columns=['sinuso'],inplace=True)\n",
    "df['X']=df['X'].apply(regulariza)\n",
    "df['Y']=df['Y'].apply(regulariza)\n",
    "df['X'] = pd.to_numeric(df['X'], errors='coerce')\n",
    "df['Y'] = pd.to_numeric(df['X'], errors='coerce')\n",
    "df.head(2)"
   ]
  },
  {
   "cell_type": "code",
   "execution_count": 129,
   "metadata": {},
   "outputs": [],
   "source": [
    "# universe_points se obtiene del archivo csv\n",
    "universe_points = []\n",
    "for i in range(0,len(X)):\n",
    "    universe_points.append([X[i],Y[i]])\n",
    "min_necesary_points = 20\n",
    "min_distance_allowed = 10"
   ]
  },
  {
   "cell_type": "code",
   "execution_count": 130,
   "metadata": {},
   "outputs": [],
   "source": [
    "# Crea un arreglo de points_number puntos  \n",
    "# Esto debe ser obtenido desde el archivo csv\n",
    "total_points_number = 100\n",
    "for x in range(total_points_number):\n",
    "  universe_points.append( [random.randint(1,100),random.randint(1,100)] ) "
   ]
  },
  {
   "cell_type": "code",
   "execution_count": 131,
   "metadata": {},
   "outputs": [],
   "source": [
    "def distance(p,q):\n",
    "    '''\n",
    "    Euclidian distance\n",
    "    '''\n",
    "    return math.sqrt( (p[0]-q[0])*(p[0]-q[0]) + (p[1]-q[1])*(p[1]-q[1]) )  "
   ]
  },
  {
   "cell_type": "code",
   "execution_count": 132,
   "metadata": {},
   "outputs": [],
   "source": [
    "def get_point():\n",
    "    '''\n",
    "    Get a new point from the points array\n",
    "    '''\n",
    "    i = random.randint(0,min_necesary_points-1)\n",
    "    return universe_points[i]"
   ]
  },
  {
   "cell_type": "code",
   "execution_count": 133,
   "metadata": {},
   "outputs": [],
   "source": [
    "def get_first_point():\n",
    "    '''\n",
    "    Get the first point from the points array\n",
    "    The nearest point to the centroid of all points\n",
    "    '''\n",
    "    xmin = 9999999999999\n",
    "    xmax = 0\n",
    "    ymin = 9999999999999\n",
    "    ymax = 0\n",
    "    first_point = []\n",
    "    for i in range(0,len(universe_points)):\n",
    "        x = universe_points[i][0]\n",
    "        y = universe_points[i][1]\n",
    "        if x < xmin: xmin = x\n",
    "        if x > xmax: xmax = x\n",
    "        if y < ymin: ymin = y\n",
    "        if y > ymax: ymax = y\n",
    "            \n",
    "    centroid = [ xmin + (xmax-xmin)/2, ymin +(ymax-ymin)/2 ]\n",
    "    \n",
    "    d = 99999999\n",
    "    for i in range(0,len(universe_points)):\n",
    "        if distance(universe_points[i], centroid) < d:\n",
    "            d = distance(universe_points[i], centroid)\n",
    "            first_point = universe_points[i]\n",
    "\n",
    "    return first_point"
   ]
  },
  {
   "cell_type": "code",
   "execution_count": 134,
   "metadata": {},
   "outputs": [],
   "source": [
    "def verify(point, selected_points):\n",
    "    '''\n",
    "    Verify that the new point is useful (based on a minimall distance)\n",
    "    '''\n",
    "    useful = False\n",
    "    '''\n",
    "    Compare the point with the rest of points selected\n",
    "    '''\n",
    "    i = 0\n",
    "    while i < len(selected_points) :\n",
    "        if debug: print('comparing ',point, selected_points[i], sep='')\n",
    "        dist =  distance(point, selected_points[i])\n",
    "        if  dist <= min_distance_allowed and dist > 0:\n",
    "            if debug: print('not ok',int(dist), ' < ',  min_distance_allowed)\n",
    "            useful = False\n",
    "            return useful\n",
    "        else:\n",
    "            if debug: print('ok',int(dist), ' > ',  min_distance_allowed)\n",
    "            useful = True\n",
    "        i += 1\n",
    "    return useful"
   ]
  },
  {
   "cell_type": "markdown",
   "metadata": {},
   "source": [
    "# Ejecucion de la seleccion de puntos"
   ]
  },
  {
   "cell_type": "code",
   "execution_count": 135,
   "metadata": {},
   "outputs": [],
   "source": [
    "selected_points=[]\n",
    "'''\n",
    "First point added to selected_points\n",
    "'''\n",
    "p = get_first_point()\n",
    "selected_points.append( p )\n",
    "if debug: print('first point',selected_points)"
   ]
  },
  {
   "cell_type": "code",
   "execution_count": 136,
   "metadata": {},
   "outputs": [
    {
     "name": "stdout",
     "output_type": "stream",
     "text": [
      "\n",
      "*** end of selection.\n",
      "*** number of selected points: 20\n"
     ]
    }
   ],
   "source": [
    "k = 0\n",
    "max_iter = 20\n",
    "while ( len(selected_points) < min_necesary_points and k < max_iter ):\n",
    "    p = get_point()\n",
    "    if debug: print('checking if new point:',p, 'is useful ...')\n",
    "    res = False\n",
    "    res = verify(p, selected_points)\n",
    "    if res :\n",
    "        if debug: print('yes, is useful')\n",
    "        selected_points.append( p )\n",
    "    else:\n",
    "        if debug: print('no, not useful')\n",
    "    k += 1\n",
    "    if debug: print('number of selected points',len(selected_points))\n",
    "    #print('points selected', selected_points)\n",
    "    \n",
    "\n",
    "print('\\n*** end of selection.')\n",
    "print('*** number of selected points:',len(selected_points))"
   ]
  },
  {
   "cell_type": "code",
   "execution_count": 137,
   "metadata": {},
   "outputs": [
    {
     "name": "stdout",
     "output_type": "stream",
     "text": [
      "selected points:\n"
     ]
    },
    {
     "data": {
      "text/plain": [
       "[[51, 50],\n",
       " [25, 35],\n",
       " [70, 50],\n",
       " [80, 58],\n",
       " [25, 35],\n",
       " [10, 86],\n",
       " [10, 86],\n",
       " [80, 58],\n",
       " [51, 50],\n",
       " [15, 72],\n",
       " [15, 72],\n",
       " [15, 72],\n",
       " [43, 19],\n",
       " [51, 50],\n",
       " [51, 50],\n",
       " [15, 72],\n",
       " [51, 50],\n",
       " [51, 50],\n",
       " [43, 19],\n",
       " [51, 50]]"
      ]
     },
     "execution_count": 137,
     "metadata": {},
     "output_type": "execute_result"
    }
   ],
   "source": [
    "print('selected points:')\n",
    "selected_points"
   ]
  },
  {
   "cell_type": "code",
   "execution_count": 138,
   "metadata": {},
   "outputs": [],
   "source": [
    "X=[]\n",
    "Y=[]\n",
    "for p in selected_points:\n",
    "    X.append(p[0])\n",
    "    Y.append(p[1])"
   ]
  },
  {
   "cell_type": "code",
   "execution_count": 139,
   "metadata": {},
   "outputs": [
    {
     "data": {
      "text/plain": [
       "<matplotlib.collections.PathCollection at 0x78dd1f30f0>"
      ]
     },
     "execution_count": 139,
     "metadata": {},
     "output_type": "execute_result"
    },
    {
     "data": {
      "image/png": "[encoded data removed]",
      "text/plain": [
       "<Figure size 432x288 with 1 Axes>"
      ]
     },
     "metadata": {
      "needs_background": "light"
     },
     "output_type": "display_data"
    }
   ],
   "source": [
    "plt.scatter(X,Y, marker='+' )"
   ]
  },
  {
   "cell_type": "code",
   "execution_count": null,
   "metadata": {},
   "outputs": [],
   "source": []
  }
 ],
 "metadata": {
  "kernelspec": {
   "display_name": "Python 3",
   "language": "python",
   "name": "python3"
  },
  "language_info": {
   "codemirror_mode": {
    "name": "ipython",
    "version": 3
   },
   "file_extension": ".py",
   "mimetype": "text/x-python",
   "name": "python",
   "nbconvert_exporter": "python",
   "pygments_lexer": "ipython3",
   "version": "3.7.3"
  }
 },
 "nbformat": 4,
 "nbformat_minor": 2
}
