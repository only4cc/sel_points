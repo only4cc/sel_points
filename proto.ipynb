{
 "cells": [
  {
   "cell_type": "markdown",
   "metadata": {},
   "source": [
    "# Determinacion de puntos para toma de muestras"
   ]
  },
  {
   "cell_type": "code",
   "execution_count": 1431,
   "metadata": {},
   "outputs": [],
   "source": [
    "# python 3.7\n",
    "#\n",
    "# Parametros de entrada:\n",
    "#    nombre del archivo formato csv\n",
    "#    numero minimo de puntos a seleccionar o ... porcentaje minimo de puntos a seleccionar\n",
    "#    distancia minima entre puntos <--- en mts\n",
    "#"
   ]
  },
  {
   "cell_type": "code",
   "execution_count": 1432,
   "metadata": {},
   "outputs": [],
   "source": [
    "import random\n",
    "import math"
   ]
  },
  {
   "cell_type": "code",
   "execution_count": 1433,
   "metadata": {},
   "outputs": [],
   "source": [
    "import matplotlib.pyplot as plt\n",
    "import seaborn as sns\n",
    "sns.set()"
   ]
  },
  {
   "cell_type": "code",
   "execution_count": 1434,
   "metadata": {},
   "outputs": [],
   "source": [
    "import pandas as pd"
   ]
  },
  {
   "cell_type": "code",
   "execution_count": 1435,
   "metadata": {},
   "outputs": [],
   "source": [
    "# Print helpful messages\n",
    "# set to False in Production\n",
    "debug = False"
   ]
  },
  {
   "cell_type": "code",
   "execution_count": 1436,
   "metadata": {},
   "outputs": [
    {
     "name": "stdout",
     "output_type": "stream",
     "text": [
      "Total Points in csv: 179\n",
      "% of Points to use: 30.0 | Number of points to use: 53\n",
      "Min. distance allowed: 141\n"
     ]
    }
   ],
   "source": [
    "# Lee el csv\n",
    "filename = '/Users/Julio/Dropbox7current/ATY/data/Puntos_Point.csv'\n",
    "filename = '../data/Puntos_Point.csv'\n",
    "\n",
    "name = 'A3-c'\n",
    "#name = 'A4-b'\n",
    "\n",
    "df = pd.read_csv(filename)\n",
    "df = df[(df['Name'] == name )]\n",
    "\n",
    "total_points =  len(df)\n",
    "\n",
    "# Prop. of total point number\n",
    "prop = 0.3\n",
    "# Minimal Distance Allowed\n",
    "min_distance_allowed = 141\n",
    "print('Total Points in csv:',total_points)\n",
    "print('% of Points to use:',prop*100, '| Number of points to use:',int(prop*len(df)) )\n",
    "print('Min. distance allowed:',min_distance_allowed)"
   ]
  },
  {
   "cell_type": "code",
   "execution_count": 1437,
   "metadata": {},
   "outputs": [
    {
     "data": {
      "text/html": [
       "<div>\n",
       "<style scoped>\n",
       "    .dataframe tbody tr th:only-of-type {\n",
       "        vertical-align: middle;\n",
       "    }\n",
       "\n",
       "    .dataframe tbody tr th {\n",
       "        vertical-align: top;\n",
       "    }\n",
       "\n",
       "    .dataframe thead th {\n",
       "        text-align: right;\n",
       "    }\n",
       "</style>\n",
       "<table border=\"1\" class=\"dataframe\">\n",
       "  <thead>\n",
       "    <tr style=\"text-align: right;\">\n",
       "      <th></th>\n",
       "      <th>wkt_geom</th>\n",
       "      <th>left</th>\n",
       "      <th>top</th>\n",
       "      <th>right</th>\n",
       "      <th>bottom</th>\n",
       "      <th>id</th>\n",
       "      <th>Area</th>\n",
       "      <th>Region</th>\n",
       "      <th>Region_Let</th>\n",
       "      <th>Number</th>\n",
       "      <th>Client_Nam</th>\n",
       "      <th>Columna1</th>\n",
       "      <th>Name</th>\n",
       "      <th>Crop</th>\n",
       "      <th>AUTO</th>\n",
       "    </tr>\n",
       "  </thead>\n",
       "  <tbody>\n",
       "    <tr>\n",
       "      <th>0</th>\n",
       "      <td>Point (11700934.77801547385752201 1484840.3588...</td>\n",
       "      <td>11700884.78</td>\n",
       "      <td>1484890.359</td>\n",
       "      <td>11700984.78</td>\n",
       "      <td>1484790.359</td>\n",
       "      <td>530</td>\n",
       "      <td>171.391814</td>\n",
       "      <td>Avocado</td>\n",
       "      <td>A</td>\n",
       "      <td>3</td>\n",
       "      <td>NaN</td>\n",
       "      <td>c</td>\n",
       "      <td>A3-c</td>\n",
       "      <td>NaN</td>\n",
       "      <td>0</td>\n",
       "    </tr>\n",
       "    <tr>\n",
       "      <th>1</th>\n",
       "      <td>Point (11700934.77801547385752201 1484740.3588...</td>\n",
       "      <td>11700884.78</td>\n",
       "      <td>1484790.359</td>\n",
       "      <td>11700984.78</td>\n",
       "      <td>1484690.359</td>\n",
       "      <td>531</td>\n",
       "      <td>171.391814</td>\n",
       "      <td>Avocado</td>\n",
       "      <td>A</td>\n",
       "      <td>3</td>\n",
       "      <td>NaN</td>\n",
       "      <td>c</td>\n",
       "      <td>A3-c</td>\n",
       "      <td>NaN</td>\n",
       "      <td>0</td>\n",
       "    </tr>\n",
       "    <tr>\n",
       "      <th>2</th>\n",
       "      <td>Point (11700934.77801547385752201 1484940.3588...</td>\n",
       "      <td>11700884.78</td>\n",
       "      <td>1484990.359</td>\n",
       "      <td>11700984.78</td>\n",
       "      <td>1484890.359</td>\n",
       "      <td>529</td>\n",
       "      <td>171.391814</td>\n",
       "      <td>Avocado</td>\n",
       "      <td>A</td>\n",
       "      <td>3</td>\n",
       "      <td>NaN</td>\n",
       "      <td>c</td>\n",
       "      <td>A3-c</td>\n",
       "      <td>NaN</td>\n",
       "      <td>0</td>\n",
       "    </tr>\n",
       "  </tbody>\n",
       "</table>\n",
       "</div>"
      ],
      "text/plain": [
       "                                            wkt_geom         left  \\\n",
       "0  Point (11700934.77801547385752201 1484840.3588...  11700884.78   \n",
       "1  Point (11700934.77801547385752201 1484740.3588...  11700884.78   \n",
       "2  Point (11700934.77801547385752201 1484940.3588...  11700884.78   \n",
       "\n",
       "           top        right       bottom   id        Area   Region Region_Let  \\\n",
       "0  1484890.359  11700984.78  1484790.359  530  171.391814  Avocado          A   \n",
       "1  1484790.359  11700984.78  1484690.359  531  171.391814  Avocado          A   \n",
       "2  1484990.359  11700984.78  1484890.359  529  171.391814  Avocado          A   \n",
       "\n",
       "   Number  Client_Nam Columna1  Name  Crop  AUTO  \n",
       "0       3         NaN        c  A3-c   NaN     0  \n",
       "1       3         NaN        c  A3-c   NaN     0  \n",
       "2       3         NaN        c  A3-c   NaN     0  "
      ]
     },
     "execution_count": 1437,
     "metadata": {},
     "output_type": "execute_result"
    }
   ],
   "source": [
    "df.head(3)"
   ]
  },
  {
   "cell_type": "code",
   "execution_count": 1438,
   "metadata": {},
   "outputs": [
    {
     "data": {
      "text/html": [
       "<div>\n",
       "<style scoped>\n",
       "    .dataframe tbody tr th:only-of-type {\n",
       "        vertical-align: middle;\n",
       "    }\n",
       "\n",
       "    .dataframe tbody tr th {\n",
       "        vertical-align: top;\n",
       "    }\n",
       "\n",
       "    .dataframe thead th {\n",
       "        text-align: right;\n",
       "    }\n",
       "</style>\n",
       "<table border=\"1\" class=\"dataframe\">\n",
       "  <thead>\n",
       "    <tr style=\"text-align: right;\">\n",
       "      <th></th>\n",
       "      <th>wkt_geom</th>\n",
       "      <th>left</th>\n",
       "      <th>top</th>\n",
       "      <th>right</th>\n",
       "      <th>bottom</th>\n",
       "      <th>id</th>\n",
       "      <th>Area</th>\n",
       "      <th>Region</th>\n",
       "      <th>Region_Let</th>\n",
       "      <th>Number</th>\n",
       "      <th>Client_Nam</th>\n",
       "      <th>Columna1</th>\n",
       "      <th>Name</th>\n",
       "      <th>Crop</th>\n",
       "      <th>AUTO</th>\n",
       "      <th>X</th>\n",
       "      <th>Y</th>\n",
       "    </tr>\n",
       "  </thead>\n",
       "  <tbody>\n",
       "    <tr>\n",
       "      <th>0</th>\n",
       "      <td>Point (11700934.77801547385752201 1484840.3588...</td>\n",
       "      <td>11700884.78</td>\n",
       "      <td>1484890.359</td>\n",
       "      <td>11700984.78</td>\n",
       "      <td>1484790.359</td>\n",
       "      <td>530</td>\n",
       "      <td>171.391814</td>\n",
       "      <td>Avocado</td>\n",
       "      <td>A</td>\n",
       "      <td>3</td>\n",
       "      <td>NaN</td>\n",
       "      <td>c</td>\n",
       "      <td>A3-c</td>\n",
       "      <td>NaN</td>\n",
       "      <td>0</td>\n",
       "      <td>11700934.77801547385752201</td>\n",
       "      <td>1484840.35880533838644624</td>\n",
       "    </tr>\n",
       "    <tr>\n",
       "      <th>1</th>\n",
       "      <td>Point (11700934.77801547385752201 1484740.3588...</td>\n",
       "      <td>11700884.78</td>\n",
       "      <td>1484790.359</td>\n",
       "      <td>11700984.78</td>\n",
       "      <td>1484690.359</td>\n",
       "      <td>531</td>\n",
       "      <td>171.391814</td>\n",
       "      <td>Avocado</td>\n",
       "      <td>A</td>\n",
       "      <td>3</td>\n",
       "      <td>NaN</td>\n",
       "      <td>c</td>\n",
       "      <td>A3-c</td>\n",
       "      <td>NaN</td>\n",
       "      <td>0</td>\n",
       "      <td>11700934.77801547385752201</td>\n",
       "      <td>1484740.35880533838644624</td>\n",
       "    </tr>\n",
       "    <tr>\n",
       "      <th>2</th>\n",
       "      <td>Point (11700934.77801547385752201 1484940.3588...</td>\n",
       "      <td>11700884.78</td>\n",
       "      <td>1484990.359</td>\n",
       "      <td>11700984.78</td>\n",
       "      <td>1484890.359</td>\n",
       "      <td>529</td>\n",
       "      <td>171.391814</td>\n",
       "      <td>Avocado</td>\n",
       "      <td>A</td>\n",
       "      <td>3</td>\n",
       "      <td>NaN</td>\n",
       "      <td>c</td>\n",
       "      <td>A3-c</td>\n",
       "      <td>NaN</td>\n",
       "      <td>0</td>\n",
       "      <td>11700934.77801547385752201</td>\n",
       "      <td>1484940.35880533838644624</td>\n",
       "    </tr>\n",
       "  </tbody>\n",
       "</table>\n",
       "</div>"
      ],
      "text/plain": [
       "                                            wkt_geom         left  \\\n",
       "0  Point (11700934.77801547385752201 1484840.3588...  11700884.78   \n",
       "1  Point (11700934.77801547385752201 1484740.3588...  11700884.78   \n",
       "2  Point (11700934.77801547385752201 1484940.3588...  11700884.78   \n",
       "\n",
       "           top        right       bottom   id        Area   Region Region_Let  \\\n",
       "0  1484890.359  11700984.78  1484790.359  530  171.391814  Avocado          A   \n",
       "1  1484790.359  11700984.78  1484690.359  531  171.391814  Avocado          A   \n",
       "2  1484990.359  11700984.78  1484890.359  529  171.391814  Avocado          A   \n",
       "\n",
       "   Number  Client_Nam Columna1  Name  Crop  AUTO                           X  \\\n",
       "0       3         NaN        c  A3-c   NaN     0  11700934.77801547385752201   \n",
       "1       3         NaN        c  A3-c   NaN     0  11700934.77801547385752201   \n",
       "2       3         NaN        c  A3-c   NaN     0  11700934.77801547385752201   \n",
       "\n",
       "                           Y  \n",
       "0  1484840.35880533838644624  \n",
       "1  1484740.35880533838644624  \n",
       "2  1484940.35880533838644624  "
      ]
     },
     "execution_count": 1438,
     "metadata": {},
     "output_type": "execute_result"
    }
   ],
   "source": [
    "# Transform wkt_geom to X, Y coord.\n",
    "def regulariza(t):\n",
    "    nc  = t.replace('(','')\n",
    "    nc2 = nc.replace(')','')\n",
    "    return nc2 \n",
    "\n",
    "df[['sinuso','X','Y']] = df['wkt_geom'].str.split(\" \",expand=True, )\n",
    "df.drop(columns=['sinuso'],inplace=True)\n",
    "df['X']=df['X'].apply(regulariza)\n",
    "df['Y']=df['Y'].apply(regulariza)\n",
    "df.head(3)"
   ]
  },
  {
   "cell_type": "code",
   "execution_count": 1439,
   "metadata": {},
   "outputs": [],
   "source": [
    "# To numeric\n",
    "df['X'] = pd.to_numeric(df['X'], errors='raise', downcast='float')\n",
    "df['Y'] = pd.to_numeric(df['Y'], errors='raise', downcast='float')"
   ]
  },
  {
   "cell_type": "code",
   "execution_count": 1440,
   "metadata": {},
   "outputs": [
    {
     "name": "stdout",
     "output_type": "stream",
     "text": [
      "Min. coord.: 11699435.0 1483940.4  | Integer: 11699435 1483940\n",
      "Max. coord.: 11700935.0 1485740.4  | Integer: 11700935 1485740\n"
     ]
    }
   ],
   "source": [
    "X = df['X'].values\n",
    "Y = df['Y'].values\n",
    "#df.info()\n",
    "\n",
    "# Minimos\n",
    "xmin = int(df['X'].min())\n",
    "ymin = int(df['Y'].min())\n",
    "\n",
    "# Maximos\n",
    "xmax = int(df['X'].max())\n",
    "ymax = int(df['Y'].max())\n",
    "\n",
    "print('Min. coord.:',df['X'].min(), df['Y'].min(),' | Integer:',xmin,ymin)\n",
    "print('Max. coord.:',df['X'].max(), df['Y'].max(),' | Integer:',xmax,ymax)"
   ]
  },
  {
   "cell_type": "markdown",
   "metadata": {},
   "source": [
    "### Puntos recibidos"
   ]
  },
  {
   "cell_type": "code",
   "execution_count": 1441,
   "metadata": {},
   "outputs": [
    {
     "data": {
      "image/png": "[encoded data removed]",
      "text/plain": [
       "<Figure size 432x288 with 1 Axes>"
      ]
     },
     "metadata": {},
     "output_type": "display_data"
    }
   ],
   "source": [
    "plt.scatter(X,Y, marker='.', s = 5);"
   ]
  },
  {
   "cell_type": "code",
   "execution_count": 1442,
   "metadata": {},
   "outputs": [],
   "source": [
    "# universe_points se obtiene del archivo csv\n",
    "universe_points = []\n",
    "for i in range(0,len(X)):\n",
    "    x = X[i] #- xmin\n",
    "    y = Y[i] #- ymin\n",
    "    universe_points.append([x,y])"
   ]
  },
  {
   "cell_type": "code",
   "execution_count": 1443,
   "metadata": {},
   "outputs": [
    {
     "data": {
      "text/plain": [
       "[[11700935.0, 1484840.4],\n",
       " [11700935.0, 1484740.4],\n",
       " [11700935.0, 1484940.4],\n",
       " [11700835.0, 1484640.4]]"
      ]
     },
     "execution_count": 1443,
     "metadata": {},
     "output_type": "execute_result"
    }
   ],
   "source": [
    "universe_points[0:4]"
   ]
  },
  {
   "cell_type": "code",
   "execution_count": 1444,
   "metadata": {},
   "outputs": [
    {
     "name": "stdout",
     "output_type": "stream",
     "text": [
      "Min. number of Points needed: 53\n"
     ]
    }
   ],
   "source": [
    "min_necesary_points = int(prop*len(universe_points))\n",
    "print('Min. number of Points needed:',min_necesary_points)"
   ]
  },
  {
   "cell_type": "code",
   "execution_count": 1445,
   "metadata": {},
   "outputs": [],
   "source": [
    "#universe_points\n",
    "# Crea un arreglo de points_number puntos  \n",
    "# Esto debe ser obtenido desde el archivo csv\n",
    "#total_points_number = 100\n",
    "#for x in range(total_points_number):\n",
    "#  universe_points.append( [random.randint(1,100),random.randint(1,100)] ) "
   ]
  },
  {
   "cell_type": "code",
   "execution_count": 1446,
   "metadata": {},
   "outputs": [],
   "source": [
    "def distance(p,q):\n",
    "    '''\n",
    "    Euclidian distance\n",
    "    '''\n",
    "    return math.sqrt( (p[0]-q[0])*(p[0]-q[0]) + (p[1]-q[1])*(p[1]-q[1]) )  "
   ]
  },
  {
   "cell_type": "code",
   "execution_count": null,
   "metadata": {},
   "outputs": [],
   "source": []
  },
  {
   "cell_type": "code",
   "execution_count": 1447,
   "metadata": {},
   "outputs": [],
   "source": [
    "def get_point():\n",
    "    '''\n",
    "    Get a new point from the points array\n",
    "    '''\n",
    "    i = random.randint(0, total_points-1)\n",
    "    return universe_points[i]"
   ]
  },
  {
   "cell_type": "code",
   "execution_count": 1448,
   "metadata": {},
   "outputs": [],
   "source": [
    "def get_first_point():\n",
    "    '''\n",
    "    Get the first point from the points array\n",
    "    The nearest point to the centroid of all points\n",
    "    '''\n",
    "    xmin = 9999999999999999\n",
    "    xmax = -999999999999999\n",
    "    ymin = 9999999999999999\n",
    "    ymax = -999999999999999\n",
    "    first_point = []\n",
    "    for i in range(0,len(universe_points)):\n",
    "        x = universe_points[i][0]\n",
    "        y = universe_points[i][1]\n",
    "        if x < xmin: xmin = x\n",
    "        if x > xmax: xmax = x\n",
    "        if y < ymin: ymin = y\n",
    "        if y > ymax: ymax = y\n",
    "            \n",
    "    centroid = [ xmin + (xmax-xmin)/2 ,ymin + (ymax-ymin)/2 ]\n",
    "    if debug: print('*** Centroid:',centroid)\n",
    "    \n",
    "    d = 9999999999999999\n",
    "    for i in range(0,len(universe_points)):\n",
    "        if distance(universe_points[i], centroid) < d:\n",
    "            d = distance(universe_points[i], centroid)\n",
    "            first_point = universe_points[i]\n",
    "    \n",
    "    return first_point"
   ]
  },
  {
   "cell_type": "code",
   "execution_count": 1449,
   "metadata": {},
   "outputs": [],
   "source": [
    "def verify(point, selected_points):\n",
    "    '''\n",
    "    Verify that the new point is useful (based on a minimall distance)\n",
    "    '''\n",
    "    useful = False\n",
    "    '''\n",
    "    Compare the point with the rest of points selected\n",
    "    '''\n",
    "    i = 0\n",
    "    while i < len(selected_points) :\n",
    "        if debug: print('comparing ',point, selected_points[i], sep='')\n",
    "        dist =  distance(point, selected_points[i])\n",
    "        if  dist <= min_distance_allowed:\n",
    "            if debug: print('not ok',int(dist), ' < ',  min_distance_allowed)\n",
    "            useful = False\n",
    "            return useful\n",
    "        else:\n",
    "            if debug: print('ok',int(dist), ' > ',  min_distance_allowed)\n",
    "            useful = True\n",
    "        i += 1\n",
    "    return useful"
   ]
  },
  {
   "cell_type": "markdown",
   "metadata": {},
   "source": [
    "# Ejecucion de la seleccion de puntos"
   ]
  },
  {
   "cell_type": "code",
   "execution_count": 1450,
   "metadata": {},
   "outputs": [],
   "source": [
    "selected_points=[]\n",
    "'''\n",
    "First point added to selected_points\n",
    "'''\n",
    "p = get_first_point()\n",
    "selected_points.append( p )\n",
    "if debug: print('first point',selected_points)"
   ]
  },
  {
   "cell_type": "code",
   "execution_count": 1451,
   "metadata": {},
   "outputs": [
    {
     "name": "stdout",
     "output_type": "stream",
     "text": [
      "\n",
      "*** end of selection.\t 182 iterations\n",
      "*** number of selected points: 53\n"
     ]
    }
   ],
   "source": [
    "k = 0\n",
    "max_iter = 1000\n",
    "while ( len(selected_points) < min_necesary_points and k < max_iter ):\n",
    "    p = get_point()\n",
    "    if debug: print('checking if new point:',p, 'is useful ...')\n",
    "    res = False\n",
    "    res = verify(p, selected_points)\n",
    "    if res:\n",
    "        if debug: print('yes, is useful')\n",
    "        selected_points.append( p )\n",
    "    else:\n",
    "        if debug: print('no, not useful')\n",
    "    k += 1\n",
    "    if debug: print('number of selected points',len(selected_points))\n",
    "    #print('points selected', selected_points)\n",
    "    \n",
    "\n",
    "print('\\n*** end of selection.\\t',k, 'iterations')\n",
    "print('*** number of selected points:',len(selected_points))"
   ]
  },
  {
   "cell_type": "code",
   "execution_count": 1452,
   "metadata": {},
   "outputs": [],
   "source": [
    "display = False\n",
    "if display:\n",
    "    print('selected points:')\n",
    "    selected_points"
   ]
  },
  {
   "cell_type": "code",
   "execution_count": 1453,
   "metadata": {},
   "outputs": [],
   "source": [
    "XX=[]\n",
    "YY=[]\n",
    "for p in selected_points:\n",
    "    XX.append(p[0]) \n",
    "    YY.append(p[1]) "
   ]
  },
  {
   "cell_type": "markdown",
   "metadata": {},
   "source": [
    "### Grafico con puntos seleccionados"
   ]
  },
  {
   "cell_type": "code",
   "execution_count": 1454,
   "metadata": {},
   "outputs": [
    {
     "data": {
      "image/png": "[encoded data removed]",
      "text/plain": [
       "<Figure size 432x288 with 1 Axes>"
      ]
     },
     "metadata": {},
     "output_type": "display_data"
    }
   ],
   "source": [
    "plt.scatter(XX,YY, c='r', marker='+' );"
   ]
  },
  {
   "cell_type": "code",
   "execution_count": null,
   "metadata": {},
   "outputs": [],
   "source": [
    "plt.scatter(X,Y, c='b', marker='.', label='grid', s=10)\n",
    "plt.scatter(XX, YY, c='r', marker='s', label='selected', s=10)\n",
    "plt.legend(loc='lower left')\n",
    "plt.show()"
   ]
  },
  {
   "cell_type": "markdown",
   "metadata": {},
   "source": [
    "### Graba el csv con los puntos generados"
   ]
  },
  {
   "cell_type": "code",
   "execution_count": 1456,
   "metadata": {},
   "outputs": [],
   "source": [
    "index = []\n",
    "for i in range(0,len(XX)):\n",
    "    index.append(i)\n",
    "\n",
    "data = {\n",
    "    'x': XX,\n",
    "    'y': YY\n",
    "}\n",
    "dfsel = pd.DataFrame(data=data, columns=['x','y'], index=index)"
   ]
  },
  {
   "cell_type": "code",
   "execution_count": 1457,
   "metadata": {},
   "outputs": [],
   "source": [
    "filename_selected = '../data/sel_'+name+'.csv'\n",
    "dfsel.to_csv(filename_selected)"
   ]
  },
  {
   "cell_type": "code",
   "execution_count": null,
   "metadata": {},
   "outputs": [],
   "source": []
  }
 ],
 "metadata": {
  "kernelspec": {
   "display_name": "Python 3",
   "language": "python",
   "name": "python3"
  },
  "language_info": {
   "codemirror_mode": {
    "name": "ipython",
    "version": 3
   },
   "file_extension": ".py",
   "mimetype": "text/x-python",
   "name": "python",
   "nbconvert_exporter": "python",
   "pygments_lexer": "ipython3",
   "version": "3.7.3"
  }
 },
 "nbformat": 4,
 "nbformat_minor": 2
}
