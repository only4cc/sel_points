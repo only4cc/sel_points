{
 "cells": [
  {
   "cell_type": "markdown",
   "metadata": {},
   "source": [
    "# Determinacion de puntos para toma de muestras"
   ]
  },
  {
   "cell_type": "code",
   "execution_count": 3,
   "metadata": {},
   "outputs": [],
   "source": [
    "# python 3.7\n",
    "#\n",
    "# Parametros de entrada:\n",
    "#    nombre del archivo formato csv\n",
    "#    numero minimo de puntos a seleccionar o ... porcentaje minimo de puntos a seleccionar\n",
    "#    distancia minima entre puntos <--- en mts\n",
    "#"
   ]
  },
  {
   "cell_type": "code",
   "execution_count": 4,
   "metadata": {},
   "outputs": [],
   "source": [
    "import random\n",
    "import math"
   ]
  },
  {
   "cell_type": "code",
   "execution_count": 5,
   "metadata": {},
   "outputs": [],
   "source": [
    "import matplotlib.pyplot as plt\n",
    "import seaborn as sns\n",
    "sns.set()"
   ]
  },
  {
   "cell_type": "code",
   "execution_count": 6,
   "metadata": {},
   "outputs": [],
   "source": [
    "import pandas as pd"
   ]
  },
  {
   "cell_type": "code",
   "execution_count": 7,
   "metadata": {},
   "outputs": [],
   "source": [
    "# Print helpful messages\n",
    "# set to False in Production\n",
    "debug = False"
   ]
  },
  {
   "cell_type": "code",
   "execution_count": 50,
   "metadata": {},
   "outputs": [
    {
     "name": "stdout",
     "output_type": "stream",
     "text": [
      "Total Points in csv: 179\n",
      "% of Points to use: 30.0 | Number of points to use: 53\n",
      "Min. distance allowed: 141\n"
     ]
    }
   ],
   "source": [
    "# Lee el csv\n",
    "filename = '../data/Puntos_Point.csv'\n",
    "\n",
    "name = 'A3-c'\n",
    "#name = 'A4-b'\n",
    "\n",
    "# Filtra solo las filas con Name = ...\n",
    "df = pd.read_csv(filename)\n",
    "df = df[(df['Name'] == name )]\n",
    "\n",
    "total_points =  len(df)\n",
    "\n",
    "# Prop. of total point number\n",
    "prop = 0.3\n",
    "# Minimal Distance Allowed\n",
    "min_distance_allowed = 141\n",
    "print('Total Points in csv:',total_points)\n",
    "print('% of Points to use:',prop*100, '| Number of points to use:',int(prop*len(df)) )\n",
    "print('Min. distance allowed:',min_distance_allowed)"
   ]
  },
  {
   "cell_type": "code",
   "execution_count": 9,
   "metadata": {},
   "outputs": [
    {
     "data": {
      "text/html": [
       "<div>\n",
       "<style scoped>\n",
       "    .dataframe tbody tr th:only-of-type {\n",
       "        vertical-align: middle;\n",
       "    }\n",
       "\n",
       "    .dataframe tbody tr th {\n",
       "        vertical-align: top;\n",
       "    }\n",
       "\n",
       "    .dataframe thead th {\n",
       "        text-align: right;\n",
       "    }\n",
       "</style>\n",
       "<table border=\"1\" class=\"dataframe\">\n",
       "  <thead>\n",
       "    <tr style=\"text-align: right;\">\n",
       "      <th></th>\n",
       "      <th>wkt_geom</th>\n",
       "      <th>left</th>\n",
       "      <th>top</th>\n",
       "      <th>right</th>\n",
       "      <th>bottom</th>\n",
       "      <th>id</th>\n",
       "      <th>Area</th>\n",
       "      <th>Region</th>\n",
       "      <th>Region_Let</th>\n",
       "      <th>Number</th>\n",
       "      <th>Client_Nam</th>\n",
       "      <th>Columna1</th>\n",
       "      <th>Name</th>\n",
       "      <th>Crop</th>\n",
       "      <th>AUTO</th>\n",
       "    </tr>\n",
       "  </thead>\n",
       "  <tbody>\n",
       "    <tr>\n",
       "      <th>0</th>\n",
       "      <td>Point (11700934.77801547385752201 1484840.3588...</td>\n",
       "      <td>11700884.78</td>\n",
       "      <td>1484890.359</td>\n",
       "      <td>11700984.78</td>\n",
       "      <td>1484790.359</td>\n",
       "      <td>530</td>\n",
       "      <td>171.391814</td>\n",
       "      <td>Avocado</td>\n",
       "      <td>A</td>\n",
       "      <td>3</td>\n",
       "      <td>NaN</td>\n",
       "      <td>c</td>\n",
       "      <td>A3-c</td>\n",
       "      <td>NaN</td>\n",
       "      <td>0</td>\n",
       "    </tr>\n",
       "    <tr>\n",
       "      <th>1</th>\n",
       "      <td>Point (11700934.77801547385752201 1484740.3588...</td>\n",
       "      <td>11700884.78</td>\n",
       "      <td>1484790.359</td>\n",
       "      <td>11700984.78</td>\n",
       "      <td>1484690.359</td>\n",
       "      <td>531</td>\n",
       "      <td>171.391814</td>\n",
       "      <td>Avocado</td>\n",
       "      <td>A</td>\n",
       "      <td>3</td>\n",
       "      <td>NaN</td>\n",
       "      <td>c</td>\n",
       "      <td>A3-c</td>\n",
       "      <td>NaN</td>\n",
       "      <td>0</td>\n",
       "    </tr>\n",
       "    <tr>\n",
       "      <th>2</th>\n",
       "      <td>Point (11700934.77801547385752201 1484940.3588...</td>\n",
       "      <td>11700884.78</td>\n",
       "      <td>1484990.359</td>\n",
       "      <td>11700984.78</td>\n",
       "      <td>1484890.359</td>\n",
       "      <td>529</td>\n",
       "      <td>171.391814</td>\n",
       "      <td>Avocado</td>\n",
       "      <td>A</td>\n",
       "      <td>3</td>\n",
       "      <td>NaN</td>\n",
       "      <td>c</td>\n",
       "      <td>A3-c</td>\n",
       "      <td>NaN</td>\n",
       "      <td>0</td>\n",
       "    </tr>\n",
       "  </tbody>\n",
       "</table>\n",
       "</div>"
      ],
      "text/plain": [
       "                                            wkt_geom         left  \\\n",
       "0  Point (11700934.77801547385752201 1484840.3588...  11700884.78   \n",
       "1  Point (11700934.77801547385752201 1484740.3588...  11700884.78   \n",
       "2  Point (11700934.77801547385752201 1484940.3588...  11700884.78   \n",
       "\n",
       "           top        right       bottom   id        Area   Region Region_Let  \\\n",
       "0  1484890.359  11700984.78  1484790.359  530  171.391814  Avocado          A   \n",
       "1  1484790.359  11700984.78  1484690.359  531  171.391814  Avocado          A   \n",
       "2  1484990.359  11700984.78  1484890.359  529  171.391814  Avocado          A   \n",
       "\n",
       "   Number  Client_Nam Columna1  Name  Crop  AUTO  \n",
       "0       3         NaN        c  A3-c   NaN     0  \n",
       "1       3         NaN        c  A3-c   NaN     0  \n",
       "2       3         NaN        c  A3-c   NaN     0  "
      ]
     },
     "execution_count": 9,
     "metadata": {},
     "output_type": "execute_result"
    }
   ],
   "source": [
    "df.head(3)"
   ]
  },
  {
   "cell_type": "code",
   "execution_count": 10,
   "metadata": {},
   "outputs": [
    {
     "data": {
      "text/html": [
       "<div>\n",
       "<style scoped>\n",
       "    .dataframe tbody tr th:only-of-type {\n",
       "        vertical-align: middle;\n",
       "    }\n",
       "\n",
       "    .dataframe tbody tr th {\n",
       "        vertical-align: top;\n",
       "    }\n",
       "\n",
       "    .dataframe thead th {\n",
       "        text-align: right;\n",
       "    }\n",
       "</style>\n",
       "<table border=\"1\" class=\"dataframe\">\n",
       "  <thead>\n",
       "    <tr style=\"text-align: right;\">\n",
       "      <th></th>\n",
       "      <th>wkt_geom</th>\n",
       "      <th>left</th>\n",
       "      <th>top</th>\n",
       "      <th>right</th>\n",
       "      <th>bottom</th>\n",
       "      <th>id</th>\n",
       "      <th>Area</th>\n",
       "      <th>Region</th>\n",
       "      <th>Region_Let</th>\n",
       "      <th>Number</th>\n",
       "      <th>Client_Nam</th>\n",
       "      <th>Columna1</th>\n",
       "      <th>Name</th>\n",
       "      <th>Crop</th>\n",
       "      <th>AUTO</th>\n",
       "      <th>X</th>\n",
       "      <th>Y</th>\n",
       "    </tr>\n",
       "  </thead>\n",
       "  <tbody>\n",
       "    <tr>\n",
       "      <th>0</th>\n",
       "      <td>Point (11700934.77801547385752201 1484840.3588...</td>\n",
       "      <td>11700884.78</td>\n",
       "      <td>1484890.359</td>\n",
       "      <td>11700984.78</td>\n",
       "      <td>1484790.359</td>\n",
       "      <td>530</td>\n",
       "      <td>171.391814</td>\n",
       "      <td>Avocado</td>\n",
       "      <td>A</td>\n",
       "      <td>3</td>\n",
       "      <td>NaN</td>\n",
       "      <td>c</td>\n",
       "      <td>A3-c</td>\n",
       "      <td>NaN</td>\n",
       "      <td>0</td>\n",
       "      <td>11700934.77801547385752201</td>\n",
       "      <td>1484840.35880533838644624</td>\n",
       "    </tr>\n",
       "    <tr>\n",
       "      <th>1</th>\n",
       "      <td>Point (11700934.77801547385752201 1484740.3588...</td>\n",
       "      <td>11700884.78</td>\n",
       "      <td>1484790.359</td>\n",
       "      <td>11700984.78</td>\n",
       "      <td>1484690.359</td>\n",
       "      <td>531</td>\n",
       "      <td>171.391814</td>\n",
       "      <td>Avocado</td>\n",
       "      <td>A</td>\n",
       "      <td>3</td>\n",
       "      <td>NaN</td>\n",
       "      <td>c</td>\n",
       "      <td>A3-c</td>\n",
       "      <td>NaN</td>\n",
       "      <td>0</td>\n",
       "      <td>11700934.77801547385752201</td>\n",
       "      <td>1484740.35880533838644624</td>\n",
       "    </tr>\n",
       "    <tr>\n",
       "      <th>2</th>\n",
       "      <td>Point (11700934.77801547385752201 1484940.3588...</td>\n",
       "      <td>11700884.78</td>\n",
       "      <td>1484990.359</td>\n",
       "      <td>11700984.78</td>\n",
       "      <td>1484890.359</td>\n",
       "      <td>529</td>\n",
       "      <td>171.391814</td>\n",
       "      <td>Avocado</td>\n",
       "      <td>A</td>\n",
       "      <td>3</td>\n",
       "      <td>NaN</td>\n",
       "      <td>c</td>\n",
       "      <td>A3-c</td>\n",
       "      <td>NaN</td>\n",
       "      <td>0</td>\n",
       "      <td>11700934.77801547385752201</td>\n",
       "      <td>1484940.35880533838644624</td>\n",
       "    </tr>\n",
       "  </tbody>\n",
       "</table>\n",
       "</div>"
      ],
      "text/plain": [
       "                                            wkt_geom         left  \\\n",
       "0  Point (11700934.77801547385752201 1484840.3588...  11700884.78   \n",
       "1  Point (11700934.77801547385752201 1484740.3588...  11700884.78   \n",
       "2  Point (11700934.77801547385752201 1484940.3588...  11700884.78   \n",
       "\n",
       "           top        right       bottom   id        Area   Region Region_Let  \\\n",
       "0  1484890.359  11700984.78  1484790.359  530  171.391814  Avocado          A   \n",
       "1  1484790.359  11700984.78  1484690.359  531  171.391814  Avocado          A   \n",
       "2  1484990.359  11700984.78  1484890.359  529  171.391814  Avocado          A   \n",
       "\n",
       "   Number  Client_Nam Columna1  Name  Crop  AUTO                           X  \\\n",
       "0       3         NaN        c  A3-c   NaN     0  11700934.77801547385752201   \n",
       "1       3         NaN        c  A3-c   NaN     0  11700934.77801547385752201   \n",
       "2       3         NaN        c  A3-c   NaN     0  11700934.77801547385752201   \n",
       "\n",
       "                           Y  \n",
       "0  1484840.35880533838644624  \n",
       "1  1484740.35880533838644624  \n",
       "2  1484940.35880533838644624  "
      ]
     },
     "execution_count": 10,
     "metadata": {},
     "output_type": "execute_result"
    }
   ],
   "source": [
    "# Transform wkt_geom to X, Y coord.\n",
    "def regulariza(t):\n",
    "    nc  = t.replace('(','')\n",
    "    nc2 = nc.replace(')','')\n",
    "    return nc2 \n",
    "\n",
    "df[['sinuso','X','Y']] = df['wkt_geom'].str.split(\" \",expand=True, )\n",
    "df.drop(columns=['sinuso'],inplace=True)\n",
    "df['X']=df['X'].apply(regulariza)\n",
    "df['Y']=df['Y'].apply(regulariza)\n",
    "df.head(3)"
   ]
  },
  {
   "cell_type": "code",
   "execution_count": 11,
   "metadata": {},
   "outputs": [],
   "source": [
    "# To numeric\n",
    "df['X'] = pd.to_numeric(df['X'], errors='raise', downcast='float')\n",
    "df['Y'] = pd.to_numeric(df['Y'], errors='raise', downcast='float')"
   ]
  },
  {
   "cell_type": "code",
   "execution_count": 12,
   "metadata": {},
   "outputs": [
    {
     "name": "stdout",
     "output_type": "stream",
     "text": [
      "Min. coord.: 11699435.0 1483940.4  | Integer: 11699435 1483940\n",
      "Max. coord.: 11700935.0 1485740.4  | Integer: 11700935 1485740\n"
     ]
    }
   ],
   "source": [
    "X = df['X'].values\n",
    "Y = df['Y'].values\n",
    "#df.info()\n",
    "\n",
    "# Minimos\n",
    "xmin = int(df['X'].min())\n",
    "ymin = int(df['Y'].min())\n",
    "\n",
    "# Maximos\n",
    "xmax = int(df['X'].max())\n",
    "ymax = int(df['Y'].max())\n",
    "\n",
    "print('Min. coord.:',df['X'].min(), df['Y'].min(),' | Integer:',xmin,ymin)\n",
    "print('Max. coord.:',df['X'].max(), df['Y'].max(),' | Integer:',xmax,ymax)"
   ]
  },
  {
   "cell_type": "markdown",
   "metadata": {},
   "source": [
    "### Puntos recibidos"
   ]
  },
  {
   "cell_type": "code",
   "execution_count": 13,
   "metadata": {},
   "outputs": [
    {
     "data": {
      "image/png": "[encoded data removed]",
      "text/plain": [
       "<Figure size 432x288 with 1 Axes>"
      ]
     },
     "metadata": {
      "needs_background": "light"
     },
     "output_type": "display_data"
    }
   ],
   "source": [
    "plt.title('Grid Points (loaded)')\n",
    "plt.scatter(X,Y, marker='.', s = 5);"
   ]
  },
  {
   "cell_type": "code",
   "execution_count": 14,
   "metadata": {},
   "outputs": [],
   "source": [
    "# universe_points se obtiene del archivo csv\n",
    "universe_points = []\n",
    "for i in range(0,len(X)):\n",
    "    x = X[i] #- xmin\n",
    "    y = Y[i] #- ymin\n",
    "    universe_points.append([x,y])"
   ]
  },
  {
   "cell_type": "code",
   "execution_count": 15,
   "metadata": {},
   "outputs": [
    {
     "data": {
      "text/plain": [
       "[[11700935.0, 1484840.4],\n",
       " [11700935.0, 1484740.4],\n",
       " [11700935.0, 1484940.4],\n",
       " [11700835.0, 1484640.4]]"
      ]
     },
     "execution_count": 15,
     "metadata": {},
     "output_type": "execute_result"
    }
   ],
   "source": [
    "universe_points[0:4]"
   ]
  },
  {
   "cell_type": "code",
   "execution_count": 16,
   "metadata": {},
   "outputs": [
    {
     "name": "stdout",
     "output_type": "stream",
     "text": [
      "Min. number of Points needed: 53\n"
     ]
    }
   ],
   "source": [
    "min_necesary_points = int(prop*len(universe_points))\n",
    "print('Min. number of Points needed:',min_necesary_points)"
   ]
  },
  {
   "cell_type": "code",
   "execution_count": 17,
   "metadata": {},
   "outputs": [],
   "source": [
    "#universe_points\n",
    "# Crea un arreglo de points_number puntos  \n",
    "# Esto debe ser obtenido desde el archivo csv\n",
    "#total_points_number = 100\n",
    "#for x in range(total_points_number):\n",
    "#  universe_points.append( [random.randint(1,100),random.randint(1,100)] ) "
   ]
  },
  {
   "cell_type": "code",
   "execution_count": 18,
   "metadata": {},
   "outputs": [],
   "source": [
    "def distance(p,q):\n",
    "    '''\n",
    "    Euclidian distance\n",
    "    '''\n",
    "    return math.sqrt( (p[0]-q[0])*(p[0]-q[0]) + (p[1]-q[1])*(p[1]-q[1]) )  "
   ]
  },
  {
   "cell_type": "code",
   "execution_count": 19,
   "metadata": {},
   "outputs": [],
   "source": [
    "def get_point():\n",
    "    '''\n",
    "    Get a new point from the points array\n",
    "    '''\n",
    "    i = random.randint(0, total_points-1)\n",
    "    return universe_points[i]"
   ]
  },
  {
   "cell_type": "code",
   "execution_count": 20,
   "metadata": {},
   "outputs": [],
   "source": [
    "def get_first_point():\n",
    "    '''\n",
    "    Get the first point from the points array\n",
    "    The nearest point to the centroid of all points\n",
    "    '''\n",
    "    xmin = 9999999999999999\n",
    "    xmax = -999999999999999\n",
    "    ymin = 9999999999999999\n",
    "    ymax = -999999999999999\n",
    "    first_point = []\n",
    "    for i in range(0,len(universe_points)):\n",
    "        x = universe_points[i][0]\n",
    "        y = universe_points[i][1]\n",
    "        if x < xmin: xmin = x\n",
    "        if x > xmax: xmax = x\n",
    "        if y < ymin: ymin = y\n",
    "        if y > ymax: ymax = y\n",
    "            \n",
    "    centroid = [ xmin + (xmax-xmin)/2 ,ymin + (ymax-ymin)/2 ]\n",
    "    if debug: print('*** Centroid:',centroid)\n",
    "    \n",
    "    d = 9999999999999999\n",
    "    for i in range(0,len(universe_points)):\n",
    "        if distance(universe_points[i], centroid) < d:\n",
    "            d = distance(universe_points[i], centroid)\n",
    "            first_point = universe_points[i]\n",
    "    \n",
    "    return first_point"
   ]
  },
  {
   "cell_type": "code",
   "execution_count": 21,
   "metadata": {},
   "outputs": [],
   "source": [
    "def verify(point, selected_points):\n",
    "    '''\n",
    "    Verify that the new point is useful (based on a minimall distance)\n",
    "    '''\n",
    "    useful = False\n",
    "    '''\n",
    "    Compare the point with the rest of points selected\n",
    "    '''\n",
    "    i = 0\n",
    "    while i < len(selected_points) :\n",
    "        if debug: print('comparing ',point, selected_points[i], sep='')\n",
    "        dist =  distance(point, selected_points[i])\n",
    "        if  dist <= min_distance_allowed:\n",
    "            if debug: print('not ok',int(dist), ' < ',  min_distance_allowed)\n",
    "            useful = False\n",
    "            return useful\n",
    "        else:\n",
    "            if debug: print('ok',int(dist), ' > ',  min_distance_allowed)\n",
    "            useful = True\n",
    "        i += 1\n",
    "    return useful"
   ]
  },
  {
   "cell_type": "markdown",
   "metadata": {},
   "source": [
    "# Ejecucion de la seleccion de puntos"
   ]
  },
  {
   "cell_type": "code",
   "execution_count": 22,
   "metadata": {},
   "outputs": [],
   "source": [
    "selected_points=[]\n",
    "'''\n",
    "First point added to selected_points\n",
    "'''\n",
    "p = get_first_point()\n",
    "selected_points.append( p )\n",
    "if debug: print('first point',selected_points)"
   ]
  },
  {
   "cell_type": "code",
   "execution_count": 23,
   "metadata": {},
   "outputs": [
    {
     "data": {
      "image/png": "[encoded data removed]",
      "text/plain": [
       "<Figure size 432x288 with 1 Axes>"
      ]
     },
     "metadata": {
      "needs_background": "light"
     },
     "output_type": "display_data"
    }
   ],
   "source": [
    "plt.title('Centroid')\n",
    "plt.scatter(X,Y, c='b', marker='.', label='grid', s=10)\n",
    "plt.scatter(selected_points[0][0], selected_points[0][1], c='r', marker='X', label='centroid', s=40)\n",
    "plt.legend(loc='lower center')\n",
    "plt.show()"
   ]
  },
  {
   "cell_type": "code",
   "execution_count": 24,
   "metadata": {},
   "outputs": [
    {
     "name": "stdout",
     "output_type": "stream",
     "text": [
      "\n",
      "*** end of selection.\t 130 iterations\n",
      "*** number of selected points: 53\n"
     ]
    }
   ],
   "source": [
    "k = 0\n",
    "max_iter = 1000\n",
    "while ( len(selected_points) < min_necesary_points and k < max_iter ):\n",
    "    p = get_point()\n",
    "    if debug: print('checking if new point:',p, 'is useful ...')\n",
    "    res = False\n",
    "    res = verify(p, selected_points)\n",
    "    if res:\n",
    "        if debug: print('yes, is useful')\n",
    "        selected_points.append( p )\n",
    "    else:\n",
    "        if debug: print('no, not useful')\n",
    "    k += 1\n",
    "    if debug: print('number of selected points',len(selected_points))\n",
    "    #print('points selected', selected_points)\n",
    "    \n",
    "\n",
    "print('\\n*** end of selection.\\t',k, 'iterations')\n",
    "print('*** number of selected points:',len(selected_points))"
   ]
  },
  {
   "cell_type": "code",
   "execution_count": 25,
   "metadata": {},
   "outputs": [],
   "source": [
    "display = False\n",
    "if display:\n",
    "    print('selected points:')\n",
    "    selected_points"
   ]
  },
  {
   "cell_type": "code",
   "execution_count": 26,
   "metadata": {},
   "outputs": [],
   "source": [
    "XX=[]\n",
    "YY=[]\n",
    "for p in selected_points:\n",
    "    XX.append(p[0]) \n",
    "    YY.append(p[1]) "
   ]
  },
  {
   "cell_type": "markdown",
   "metadata": {},
   "source": [
    "### Grafico con puntos seleccionados"
   ]
  },
  {
   "cell_type": "code",
   "execution_count": 27,
   "metadata": {},
   "outputs": [
    {
     "data": {
      "image/png": "[encoded data removed]",
      "text/plain": [
       "<Figure size 432x288 with 1 Axes>"
      ]
     },
     "metadata": {
      "needs_background": "light"
     },
     "output_type": "display_data"
    }
   ],
   "source": [
    "plt.title('Selected Points')\n",
    "plt.scatter(XX,YY, c='r', marker='+' );"
   ]
  },
  {
   "cell_type": "code",
   "execution_count": 28,
   "metadata": {},
   "outputs": [
    {
     "data": {
      "image/png": "[encoded data removed]",
      "text/plain": [
       "<Figure size 432x288 with 1 Axes>"
      ]
     },
     "metadata": {
      "needs_background": "light"
     },
     "output_type": "display_data"
    }
   ],
   "source": [
    "plt.title('Selected Points in Grid')\n",
    "plt.scatter(X,Y, c='b', marker='.', label='grid', s=10)\n",
    "plt.scatter(XX, YY, c='r', marker='s', label='selected', s=10)\n",
    "plt.legend(loc='lower left')\n",
    "plt.show()"
   ]
  },
  {
   "cell_type": "markdown",
   "metadata": {},
   "source": [
    "### Graba el csv con los puntos generados"
   ]
  },
  {
   "cell_type": "code",
   "execution_count": 29,
   "metadata": {},
   "outputs": [],
   "source": [
    "index = []\n",
    "for i in range(0,len(XX)):\n",
    "    index.append(i)\n",
    "\n",
    "data = {\n",
    "    'x': XX,\n",
    "    'y': YY\n",
    "}\n",
    "dfsel = pd.DataFrame(data=data, columns=['x','y'], index=index)"
   ]
  },
  {
   "cell_type": "code",
   "execution_count": 30,
   "metadata": {},
   "outputs": [],
   "source": [
    "filename_selected = '../data/sel_'+name+'.csv'\n",
    "dfsel.to_csv(filename_selected)"
   ]
  },
  {
   "cell_type": "markdown",
   "metadata": {},
   "source": [
    "# Georeferenciado"
   ]
  },
  {
   "cell_type": "code",
   "execution_count": 44,
   "metadata": {},
   "outputs": [
    {
     "name": "stdout",
     "output_type": "stream",
     "text": [
      "Centroid: [11700235.0, 1484840.4]\n"
     ]
    }
   ],
   "source": [
    "print('Centroid:',[selected_points[0][0], selected_points[0][1]] )"
   ]
  },
  {
   "cell_type": "code",
   "execution_count": 49,
   "metadata": {},
   "outputs": [
    {
     "data": {
      "text/html": [
       "<div style=\"width:100%;\"><div style=\"position:relative;width:100%;height:0;padding-bottom:60%;\"><iframe src=\"data:text/html;charset=utf-8;base64,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\" style=\"position:absolute;width:100%;height:100%;left:0;top:0;border:none !important;\" allowfullscreen webkitallowfullscreen mozallowfullscreen></iframe></div></div>"
      ],
      "text/plain": [
       "<folium.folium.Map at 0x9481090a90>"
      ]
     },
     "execution_count": 49,
     "metadata": {},
     "output_type": "execute_result"
    }
   ],
   "source": [
    "import folium\n",
    "m = folium.Map(\n",
    "    location=[selected_points[0][0], selected_points[0][1]],\n",
    "    zoom_start=5,\n",
    "#    tiles='Stamen Terrain'\n",
    ")\n",
    "\n",
    "tooltip = 'Click'\n",
    "\n",
    "for i in range(0,len(selected_points)):\n",
    "    folium.Marker([selected_points[i][0], selected_points[i][1]], popup='<i>'+'punto_seleccionado'+'</i>', tooltip=tooltip).add_to(m)\n",
    "\n",
    "m"
   ]
  },
  {
   "cell_type": "code",
   "execution_count": null,
   "metadata": {},
   "outputs": [],
   "source": []
  }
 ],
 "metadata": {
  "kernelspec": {
   "display_name": "Python 3",
   "language": "python",
   "name": "python3"
  },
  "language_info": {
   "codemirror_mode": {
    "name": "ipython",
    "version": 3
   },
   "file_extension": ".py",
   "mimetype": "text/x-python",
   "name": "python",
   "nbconvert_exporter": "python",
   "pygments_lexer": "ipython3",
   "version": "3.7.3"
  }
 },
 "nbformat": 4,
 "nbformat_minor": 2
}
